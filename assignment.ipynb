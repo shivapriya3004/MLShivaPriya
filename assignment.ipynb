{
 "cells": [
  {
   "cell_type": "code",
   "execution_count": 13,
   "id": "af352431",
   "metadata": {},
   "outputs": [
    {
     "name": "stdout",
     "output_type": "stream",
     "text": [
      "sorted ages: [19, 19, 20, 22, 24, 24, 24, 25, 25, 26]\n",
      "minimum of ages 19\n",
      "maximum of ages 26\n",
      "add min and max ages: [19, 19, 20, 22, 24, 24, 24, 25, 25, 26, 19, 26]\n",
      "median: 24.0\n",
      "average: 22.75\n",
      "range: 7\n"
     ]
    }
   ],
   "source": [
    "ages=[19, 22, 19, 24, 20, 25, 26, 24, 25, 24]\n",
    "#using sort() to sort the list in asceding order\n",
    "ages.sort()\n",
    "#using min() and max()\n",
    "m=min(ages)\n",
    "n=max(ages)\n",
    "r=n-m\n",
    "print(\"sorted ages:\",ages)\n",
    "print(\"minimum of ages\",m)\n",
    "print(\"maximum of ages\",n)\n",
    "ages.append(min(ages))\n",
    "ages.append(max(ages))\n",
    "print(\"add min and max ages:\",ages)\n",
    "#Using statistics library to find median\n",
    "import statistics\n",
    "print(\"median:\",statistics.median(ages))\n",
    "avg=sum(ages)/len(ages)\n",
    "print(\"average:\",avg)\n",
    "r=n-m\n",
    "print(\"range:\",r)"
   ]
  },
  {
   "cell_type": "code",
   "execution_count": 14,
   "id": "d8418efc",
   "metadata": {},
   "outputs": [
    {
     "name": "stdout",
     "output_type": "stream",
     "text": [
      "{'name': 'yashu', 'color': 'red', 'legs': '4', 'breed': 'xyz', 'age': '23'}\n",
      "{'first_name': 'sumana', 'last_name': 'burra', 'gender': 'F', 'age': '23', 'maritial_status': 'no', 'skills': ['java', 'python', 'c'], 'country': 'xyz', 'city': 'zzz', 'address': 'pqr'}\n",
      "length of student dictionary: 9\n",
      "['java', 'python', 'c']\n",
      "<class 'list'>\n",
      "{'first_name': 'sumana', 'last_name': 'burra', 'gender': 'F', 'age': '23', 'maritial_status': 'no', 'skills': ['java', 'python', 'c', 'angular'], 'country': 'xyz', 'city': 'zzz', 'address': 'pqr'}\n",
      "dict_keys(['first_name', 'last_name', 'gender', 'age', 'maritial_status', 'skills', 'country', 'city', 'address'])\n",
      "dict_values(['sumana', 'burra', 'F', '23', 'no', ['java', 'python', 'c', 'angular'], 'xyz', 'zzz', 'pqr'])\n"
     ]
    }
   ],
   "source": [
    "#declaring empty dictionary\n",
    "dog={}\n",
    "dog={'name':'yashu','color':'red','legs':'4','breed':'xyz','age':'23',}\n",
    "print(dog)\n",
    "#declaring student dictionary\n",
    "student={'first_name':'sumana','last_name':'burra',\n",
    "         'gender':'F','age':'23','maritial_status':'no',\n",
    "         'skills':['java','python','c'],\n",
    "         'country':'xyz','city':'zzz','address':'pqr'}\n",
    "print(student)\n",
    "#using len() to find the length of student dictionary\n",
    "print(\"length of student dictionary:\",len(student))\n",
    "print(student['skills'])\n",
    "#finding type of skills\n",
    "print(type(student['skills']))\n",
    "#adding a new skill by using append\n",
    "student['skills'].append('angular')\n",
    "print(student)\n",
    "print(student.keys())\n",
    "print(student.values())"
   ]
  },
  {
   "cell_type": "code",
   "execution_count": 1,
   "id": "a0bc2072",
   "metadata": {},
   "outputs": [
    {
     "name": "stdout",
     "output_type": "stream",
     "text": [
      "siblings are: ('yashu', 'sumana', 'sravani', 'sai', 'deepu', 'aravind')\n",
      "no.of siblings: 6\n",
      "family members are: ('yashu', 'sumana', 'sravani', 'sai', 'deepu', 'aravind', 'swamy', 'umadevi')\n"
     ]
    }
   ],
   "source": [
    "s=(\"yashu\",\"sumana\",\"sravani\")#sisters\n",
    "b=(\"sai\",\"deepu\",\"aravind\")#brothers\n",
    "#joining both tuples by using + operator\n",
    "siblings=s+b\n",
    "print(\"siblings are:\",siblings)\n",
    "print(\"no.of siblings:\",len(siblings))\n",
    "family_members=siblings+(\"swamy\",\"umadevi\")\n",
    "print(\"family members are:\", family_members)\n"
   ]
  },
  {
   "cell_type": "code",
   "execution_count": 16,
   "id": "cd89f5e2",
   "metadata": {},
   "outputs": [
    {
     "name": "stdout",
     "output_type": "stream",
     "text": [
      "length of it_companies: 7\n",
      "{'IBM', 'Facebook', 'Amazon', 'Apple', 'Google', 'Twitter', 'Microsoft', 'Oracle'}\n",
      "{'IBM', 'dbs', 'Apple', 'cognizant', 'Google', 'Microsoft', 'Facebook', 'Amazon', 'accenture', 'Twitter', 'Oracle'}\n",
      "{'dbs', 'Apple', 'cognizant', 'Google', 'Microsoft', 'Facebook', 'Amazon', 'accenture', 'Twitter', 'Oracle'}\n",
      "{'dbs', 'Apple', 'cognizant', 'Google', 'Microsoft', 'Facebook', 'Amazon', 'accenture', 'Twitter', 'Oracle'}\n"
     ]
    }
   ],
   "source": [
    "it_companies = {'Facebook', 'Google', 'Microsoft', 'Apple', 'IBM', 'Oracle', 'Amazon'} \n",
    "print(\"length of it_companies:\",len(it_companies))\n",
    "it_companies.add(\"Twitter\")\n",
    "print(it_companies)\n",
    "multiple={\"accenture\",\"cognizant\",\"dbs\"}\n",
    "it_companies.update(multiple)\n",
    "print(it_companies)\n",
    "it_companies.remove(\"IBM\")\n",
    "print(it_companies)\n",
    "it_companies.discard(\"IBM\")\n",
    "print(it_companies)"
   ]
  },
  {
   "cell_type": "code",
   "execution_count": 17,
   "id": "a5e0226d",
   "metadata": {},
   "outputs": [
    {
     "name": "stdout",
     "output_type": "stream",
     "text": [
      "{19, 20, 22, 24, 25, 26, 27, 28}\n",
      "{19, 20, 22, 24, 25, 26}\n",
      "True\n",
      "False\n",
      "{19, 20, 22, 24, 25, 26, 27, 28}\n",
      "{19, 20, 22, 24, 25, 26, 27, 28}\n",
      "{27, 28}\n"
     ]
    }
   ],
   "source": [
    "A = {19, 22, 24, 20, 25, 26}\n",
    "B = {19, 22, 20, 25, 26, 24, 28, 27}\n",
    "#union of A and B\n",
    "print(A.union(B))\n",
    "#intersection of A and B\n",
    "print(A.intersection(B))\n",
    "#using issubset() \n",
    "print(A.issubset(B))\n",
    "#using isdisjoint()\n",
    "print(A.isdisjoint(B))\n",
    "print(A.union(B))\n",
    "print(B.union(A))\n",
    "print(A.symmetric_difference(B))\n",
    "del A\n",
    "del B\n",
    "#print(A)\n",
    "#print(B)   \n"
   ]
  },
  {
   "cell_type": "code",
   "execution_count": 18,
   "id": "67f29783",
   "metadata": {},
   "outputs": [
    {
     "name": "stdout",
     "output_type": "stream",
     "text": [
      "{19, 22, 24, 25, 26}\n",
      "8\n",
      "5\n",
      "comparing lenths of list and set: 3\n"
     ]
    }
   ],
   "source": [
    "age = [22, 19, 24, 25, 26, 24, 25, 24]\n",
    "#using set() to convert list to set\n",
    "s=set(age)\n",
    "print(s)\n",
    "print(len(age))\n",
    "print(len(s))\n",
    "print(\"comparing lenths of list and set:\",len(age)-len(s))"
   ]
  },
  {
   "cell_type": "code",
   "execution_count": 19,
   "id": "e890b5d9",
   "metadata": {},
   "outputs": [
    {
     "name": "stdout",
     "output_type": "stream",
     "text": [
      "2826.0\n",
      "188.4\n",
      "enter the radius:4\n",
      "area= 50.24\n"
     ]
    }
   ],
   "source": [
    "r=30\n",
    "_area_of_circle_=3.14*r**2\n",
    "print(_area_of_circle_)\n",
    "_circum_of_circle_=2*3.14*r\n",
    "print(_circum_of_circle_)\n",
    "#giving input by using user input function\n",
    "r=int(input(\"enter the radius:\"))\n",
    "print(\"area=\",3.14*r**2)\n",
    "\n"
   ]
  },
  {
   "cell_type": "code",
   "execution_count": 20,
   "id": "e341d0a0",
   "metadata": {},
   "outputs": [
    {
     "name": "stdout",
     "output_type": "stream",
     "text": [
      "10\n"
     ]
    }
   ],
   "source": [
    "s= \"I am a teacher and I love to inspire and teach people\"\n",
    "#split() method is used to split a string into a list of strings \n",
    "#using set() to provide unique words\n",
    "p=set(s.split())\n",
    "print(len(p))"
   ]
  },
  {
   "cell_type": "code",
   "execution_count": 21,
   "id": "c07dfe1e",
   "metadata": {},
   "outputs": [
    {
     "name": "stdout",
     "output_type": "stream",
     "text": [
      "Name\t\t Age\t Country\t City\n",
      "Asabeneh\t 250\t Finland\t Helsinki\n"
     ]
    }
   ],
   "source": [
    "#using the tab character “\\t”.\n",
    "print(\"Name\\t\\t Age\\t Country\\t City\\nAsabeneh\\t 250\\t Finland\\t Helsinki\")"
   ]
  },
  {
   "cell_type": "code",
   "execution_count": 22,
   "id": "2dbb50aa",
   "metadata": {},
   "outputs": [
    {
     "name": "stdout",
     "output_type": "stream",
     "text": [
      "The area of circle with radius 10 is 314.0 meters square.\n"
     ]
    }
   ],
   "source": [
    "\n",
    "radius = 10\n",
    "area = 3.14* radius**2\n",
    "print(\"The area of circle with radius {} is {} meters square.\".format(str(radius),str(area)))"
   ]
  },
  {
   "cell_type": "code",
   "execution_count": 23,
   "id": "478baeb1",
   "metadata": {},
   "outputs": [
    {
     "name": "stdout",
     "output_type": "stream",
     "text": [
      "enter no. of students4\n",
      "enter the wights in lbs: 150 155 165 160\n",
      "weight in kgs is: [68.04, 70.31, 74.84, 72.57]\n"
     ]
    }
   ],
   "source": [
    "N=int(input(\"enter no. of students\"))\n",
    "L=list(map(int,input(\"enter the wights in lbs: \").strip().split()))[:N]\n",
    "K=[]\n",
    "for i in L:\n",
    "    #1 kg=lb*0.45359237\n",
    "    kg=i*0.45359237\n",
    "    K.append(round(kg,2))\n",
    "print(\"weight in kgs is:\",K)\n",
    "    "
   ]
  },
  {
   "cell_type": "code",
   "execution_count": null,
   "id": "ddb14bf2",
   "metadata": {},
   "outputs": [],
   "source": []
  },
  {
   "cell_type": "code",
   "execution_count": null,
   "id": "be4b50a9",
   "metadata": {},
   "outputs": [],
   "source": []
  }
 ],
 "metadata": {
  "kernelspec": {
   "display_name": "Python 3 (ipykernel)",
   "language": "python",
   "name": "python3"
  },
  "language_info": {
   "codemirror_mode": {
    "name": "ipython",
    "version": 3
   },
   "file_extension": ".py",
   "mimetype": "text/x-python",
   "name": "python",
   "nbconvert_exporter": "python",
   "pygments_lexer": "ipython3",
   "version": "3.9.13"
  }
 },
 "nbformat": 4,
 "nbformat_minor": 5
}
